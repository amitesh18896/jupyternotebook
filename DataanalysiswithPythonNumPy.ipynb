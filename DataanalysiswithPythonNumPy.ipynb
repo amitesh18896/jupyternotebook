{
 "cells": [
  {
   "cell_type": "code",
   "execution_count": 17,
   "metadata": {},
   "outputs": [
    {
     "name": "stdout",
     "output_type": "stream",
     "text": [
      "[1 2 3]\n"
     ]
    }
   ],
   "source": [
    "import numpy as np\n",
    "\n",
    "# Create a 1D array\n",
    "\n",
    "arr1 = np.array([1,2,3])\n",
    "\n",
    "print(arr1)"
   ]
  },
  {
   "cell_type": "code",
   "execution_count": 18,
   "metadata": {},
   "outputs": [
    {
     "name": "stdout",
     "output_type": "stream",
     "text": [
      "<class 'numpy.ndarray'>\n"
     ]
    }
   ],
   "source": [
    "# check the array\n",
    "\n",
    "print(type(arr1))"
   ]
  },
  {
   "cell_type": "code",
   "execution_count": 19,
   "metadata": {},
   "outputs": [
    {
     "name": "stdout",
     "output_type": "stream",
     "text": [
      "(3,)\n"
     ]
    }
   ],
   "source": [
    "# Check the shape of the array\n",
    "\n",
    "print(arr1.shape)"
   ]
  },
  {
   "cell_type": "code",
   "execution_count": 20,
   "metadata": {},
   "outputs": [
    {
     "data": {
      "text/plain": [
       "3"
      ]
     },
     "execution_count": 20,
     "metadata": {},
     "output_type": "execute_result"
    }
   ],
   "source": [
    "# accessing elements from the array\n",
    "\n",
    "arr1[2]"
   ]
  },
  {
   "cell_type": "code",
   "execution_count": 21,
   "metadata": {
    "collapsed": true
   },
   "outputs": [],
   "source": [
    "# Change an element from the array\n",
    "\n",
    "arr1[2]= 5"
   ]
  },
  {
   "cell_type": "code",
   "execution_count": 22,
   "metadata": {},
   "outputs": [
    {
     "data": {
      "text/plain": [
       "array([1, 2, 5])"
      ]
     },
     "execution_count": 22,
     "metadata": {},
     "output_type": "execute_result"
    }
   ],
   "source": [
    "arr1"
   ]
  },
  {
   "cell_type": "code",
   "execution_count": 24,
   "metadata": {},
   "outputs": [
    {
     "name": "stdout",
     "output_type": "stream",
     "text": [
      "[[1 2 3]\n",
      " [4 5 6]]\n"
     ]
    }
   ],
   "source": [
    "# Create a 2D array\n",
    "\n",
    "arr2 = np.array([[1,2,3], [4,5,6]])\n",
    "print(arr2)"
   ]
  },
  {
   "cell_type": "code",
   "execution_count": 25,
   "metadata": {},
   "outputs": [
    {
     "name": "stdout",
     "output_type": "stream",
     "text": [
      "The shape is 2 rows and 3 columns: (2, 3)\n"
     ]
    }
   ],
   "source": [
    "# Check the shape of the array\n",
    "\n",
    "print(\"The shape is 2 rows and 3 columns:\", arr2.shape)"
   ]
  },
  {
   "cell_type": "code",
   "execution_count": 26,
   "metadata": {},
   "outputs": [
    {
     "data": {
      "text/plain": [
       "3"
      ]
     },
     "execution_count": 26,
     "metadata": {},
     "output_type": "execute_result"
    }
   ],
   "source": [
    "# Accessing elements from the array\n",
    "\n",
    "arr2[0][2]"
   ]
  },
  {
   "cell_type": "code",
   "execution_count": 27,
   "metadata": {},
   "outputs": [
    {
     "data": {
      "text/plain": [
       "3"
      ]
     },
     "execution_count": 27,
     "metadata": {},
     "output_type": "execute_result"
    }
   ],
   "source": [
    "arr2[0,2]"
   ]
  },
  {
   "cell_type": "code",
   "execution_count": 28,
   "metadata": {},
   "outputs": [
    {
     "data": {
      "text/plain": [
       "2"
      ]
     },
     "execution_count": 28,
     "metadata": {},
     "output_type": "execute_result"
    }
   ],
   "source": [
    "arr2[0,-2]"
   ]
  },
  {
   "cell_type": "code",
   "execution_count": 30,
   "metadata": {},
   "outputs": [
    {
     "data": {
      "text/plain": [
       "3"
      ]
     },
     "execution_count": 30,
     "metadata": {},
     "output_type": "execute_result"
    }
   ],
   "source": [
    "arr2[0,-1]"
   ]
  },
  {
   "cell_type": "code",
   "execution_count": 32,
   "metadata": {},
   "outputs": [
    {
     "data": {
      "text/plain": [
       "4"
      ]
     },
     "execution_count": 32,
     "metadata": {},
     "output_type": "execute_result"
    }
   ],
   "source": [
    "arr2[-1, 0]"
   ]
  },
  {
   "cell_type": "code",
   "execution_count": 45,
   "metadata": {},
   "outputs": [
    {
     "name": "stdout",
     "output_type": "stream",
     "text": [
      "['India' 'China' 'USA' 'Mexico']\n"
     ]
    }
   ],
   "source": [
    "# Array of type string\n",
    "\n",
    "arr3 = np.array(['India', 'China', 'USA' , 'Mexico'])\n",
    "print(arr3)"
   ]
  },
  {
   "cell_type": "code",
   "execution_count": 46,
   "metadata": {},
   "outputs": [
    {
     "data": {
      "text/plain": [
       "'China'"
      ]
     },
     "execution_count": 46,
     "metadata": {},
     "output_type": "execute_result"
    }
   ],
   "source": [
    "arr3[1]"
   ]
  },
  {
   "cell_type": "code",
   "execution_count": 49,
   "metadata": {},
   "outputs": [
    {
     "name": "stdout",
     "output_type": "stream",
     "text": [
      "[ 0  2  4  6  8 10 12 14 16 18]\n"
     ]
    }
   ],
   "source": [
    "# Array of evenly spaced values within a specified interval\n",
    "\n",
    "arr = np.arange(0, 20, 2)\n",
    "print(arr)"
   ]
  },
  {
   "cell_type": "code",
   "execution_count": 51,
   "metadata": {},
   "outputs": [
    {
     "name": "stdout",
     "output_type": "stream",
     "text": [
      "[  0.           0.52631579   1.05263158   1.57894737   2.10526316\n",
      "   2.63157895   3.15789474   3.68421053   4.21052632   4.73684211\n",
      "   5.26315789   5.78947368   6.31578947   6.84210526   7.36842105\n",
      "   7.89473684   8.42105263   8.94736842   9.47368421  10.        ]\n"
     ]
    }
   ],
   "source": [
    "# Array of evenly spaced number in a specified interval\n",
    "\n",
    "arr = np.linspace(0, 10, 20)\n",
    "print(arr)"
   ]
  },
  {
   "cell_type": "code",
   "execution_count": 55,
   "metadata": {},
   "outputs": [
    {
     "name": "stdout",
     "output_type": "stream",
     "text": [
      "[ 0.49040995  0.47226165  0.10556096  0.53506425  0.17164791  0.82141653\n",
      "  0.33300599  0.75698163  0.76909037  0.96925184]\n",
      "\n",
      "\n",
      "[[ 0.72197329  0.3584691   0.34545225  0.39329763]\n",
      " [ 0.68886322  0.49115644  0.55194581  0.90256603]\n",
      " [ 0.94748455  0.3168291   0.4499492   0.25973967]]\n"
     ]
    }
   ],
   "source": [
    "# Array of random values between 0 and 1 in a given shape\n",
    "\n",
    "arr = np.random.rand(10)\n",
    "print(arr)\n",
    "print('\\n')\n",
    "arr = np.random.rand(3,4)\n",
    "print(arr)"
   ]
  },
  {
   "cell_type": "code",
   "execution_count": 60,
   "metadata": {},
   "outputs": [
    {
     "name": "stdout",
     "output_type": "stream",
     "text": [
      "[ 0.  0.  0.  0.  0.  0.  0.  0.  0.  0.]\n",
      "\n",
      "\n",
      "[[ 0.  0.  0.]\n",
      " [ 0.  0.  0.]]\n"
     ]
    }
   ],
   "source": [
    "# Array of zeros\n",
    "\n",
    "print(np.zeros(10))\n",
    "print('\\n')\n",
    "print(np.zeros((2,3)))"
   ]
  },
  {
   "cell_type": "code",
   "execution_count": 63,
   "metadata": {},
   "outputs": [
    {
     "name": "stdout",
     "output_type": "stream",
     "text": [
      "[[ 1.  1.  1.  1.]\n",
      " [ 1.  1.  1.  1.]\n",
      " [ 1.  1.  1.  1.]]\n"
     ]
    }
   ],
   "source": [
    "print(np.ones((3,4)))"
   ]
  },
  {
   "cell_type": "code",
   "execution_count": 70,
   "metadata": {},
   "outputs": [
    {
     "name": "stdout",
     "output_type": "stream",
     "text": [
      "[[10 10 10 10 10 10]\n",
      " [10 10 10 10 10 10]\n",
      " [10 10 10 10 10 10]\n",
      " [10 10 10 10 10 10]]\n"
     ]
    }
   ],
   "source": [
    "# Array of constant values in a given shape\n",
    "\n",
    "print(np.full((4,6),10))"
   ]
  },
  {
   "cell_type": "code",
   "execution_count": 71,
   "metadata": {},
   "outputs": [
    {
     "name": "stdout",
     "output_type": "stream",
     "text": [
      "[0 0 0 1 1 1 2 2 2]\n"
     ]
    }
   ],
   "source": [
    "# Create an array by repetition\n",
    "# epeat each element of an array by a specified number of times\n",
    "\n",
    "arr = [0, 1, 2]\n",
    "print(np.repeat(arr, 3)) "
   ]
  },
  {
   "cell_type": "code",
   "execution_count": 72,
   "metadata": {},
   "outputs": [
    {
     "name": "stdout",
     "output_type": "stream",
     "text": [
      "[0 1 2 0 1 2 0 1 2]\n"
     ]
    }
   ],
   "source": [
    "# Repeat an array by a specified number of times\n",
    "\n",
    "arr = [0, 1, 2]\n",
    "print(np.tile(arr, 3))"
   ]
  },
  {
   "cell_type": "code",
   "execution_count": 73,
   "metadata": {},
   "outputs": [
    {
     "name": "stdout",
     "output_type": "stream",
     "text": [
      "[[ 1.  0.  0.]\n",
      " [ 0.  1.  0.]\n",
      " [ 0.  0.  1.]]\n"
     ]
    }
   ],
   "source": [
    "# Create an idenity matrix\n",
    "\n",
    "identity_matrix = np.eye(3)\n",
    "print(identity_matrix)"
   ]
  },
  {
   "cell_type": "code",
   "execution_count": 74,
   "metadata": {},
   "outputs": [
    {
     "name": "stdout",
     "output_type": "stream",
     "text": [
      "[[ 1.  0.  0.]\n",
      " [ 0.  1.  0.]\n",
      " [ 0.  0.  1.]]\n"
     ]
    }
   ],
   "source": [
    "identity_matrix = np.identity(3)\n",
    "print(identity_matrix)"
   ]
  },
  {
   "cell_type": "code",
   "execution_count": 75,
   "metadata": {},
   "outputs": [
    {
     "name": "stdout",
     "output_type": "stream",
     "text": [
      "[[1 0 0 0 0]\n",
      " [0 2 0 0 0]\n",
      " [0 0 3 0 0]\n",
      " [0 0 0 4 0]\n",
      " [0 0 0 0 5]]\n"
     ]
    }
   ],
   "source": [
    "# Create a matrix with a specified diagonal array\n",
    "\n",
    "arr = np.diag([1,2,3,4,5])\n",
    "print(arr)"
   ]
  },
  {
   "cell_type": "code",
   "execution_count": 76,
   "metadata": {},
   "outputs": [
    {
     "name": "stdout",
     "output_type": "stream",
     "text": [
      "[[ 0.92442117  0.76175054  0.20185687  0.2738665   0.45570721]\n",
      " [ 0.89719214  0.13305234  0.02005525  0.42783675  0.91508155]\n",
      " [ 0.73914224  0.42200879  0.00212008  0.14618597  0.35100732]\n",
      " [ 0.49504246  0.39017443  0.70696161  0.2292809   0.76391887]\n",
      " [ 0.43283068  0.61598609  0.38632981  0.48332     0.57072346]]\n"
     ]
    }
   ],
   "source": [
    "arr = np.random.rand(5,5)\n",
    "print(arr)"
   ]
  },
  {
   "cell_type": "code",
   "execution_count": 77,
   "metadata": {},
   "outputs": [
    {
     "name": "stdout",
     "output_type": "stream",
     "text": [
      "[ 0.92442117  0.13305234  0.00212008  0.2292809   0.57072346]\n"
     ]
    }
   ],
   "source": [
    "# Extract the diagonal elements in the array\n",
    "print(np.diag(arr))"
   ]
  },
  {
   "cell_type": "code",
   "execution_count": 78,
   "metadata": {},
   "outputs": [
    {
     "name": "stdout",
     "output_type": "stream",
     "text": [
      "5\n"
     ]
    }
   ],
   "source": [
    "# Display the length of the array\n",
    "print(len(arr))"
   ]
  },
  {
   "cell_type": "code",
   "execution_count": 80,
   "metadata": {},
   "outputs": [
    {
     "name": "stdout",
     "output_type": "stream",
     "text": [
      "2\n"
     ]
    }
   ],
   "source": [
    "# Display the dimension of the array\n",
    "print(arr.ndim)"
   ]
  },
  {
   "cell_type": "code",
   "execution_count": 82,
   "metadata": {},
   "outputs": [
    {
     "name": "stdout",
     "output_type": "stream",
     "text": [
      "25\n"
     ]
    }
   ],
   "source": [
    "# Display the size of the elements\n",
    "print(arr.size)"
   ]
  },
  {
   "cell_type": "code",
   "execution_count": 91,
   "metadata": {},
   "outputs": [
    {
     "name": "stdout",
     "output_type": "stream",
     "text": [
      "[ 6  6 -3  1]\n"
     ]
    }
   ],
   "source": [
    "# print 4 random integers\n",
    "\n",
    "print(np.random.randint(-10, 10, 4))"
   ]
  },
  {
   "cell_type": "code",
   "execution_count": 93,
   "metadata": {},
   "outputs": [
    {
     "name": "stdout",
     "output_type": "stream",
     "text": [
      "[[ 10.92442117  10.76175054  10.20185687  10.2738665   10.45570721]\n",
      " [ 10.89719214  10.13305234  10.02005525  10.42783675  10.91508155]\n",
      " [ 10.73914224  10.42200879  10.00212008  10.14618597  10.35100732]\n",
      " [ 10.49504246  10.39017443  10.70696161  10.2292809   10.76391887]\n",
      " [ 10.43283068  10.61598609  10.38632981  10.48332     10.57072346]]\n",
      "\n",
      "\n",
      "[[-9.07557883 -9.23824946 -9.79814313 -9.7261335  -9.54429279]\n",
      " [-9.10280786 -9.86694766 -9.97994475 -9.57216325 -9.08491845]\n",
      " [-9.26085776 -9.57799121 -9.99787992 -9.85381403 -9.64899268]\n",
      " [-9.50495754 -9.60982557 -9.29303839 -9.7707191  -9.23608113]\n",
      " [-9.56716932 -9.38401391 -9.61367019 -9.51668    -9.42927654]]\n",
      "\n",
      "\n",
      "[[ 9.24421172  7.6175054   2.01856873  2.73866495  4.55707208]\n",
      " [ 8.97192145  1.33052344  0.20055254  4.2783675   9.1508155 ]\n",
      " [ 7.39142238  4.22008791  0.02120083  1.46185965  3.51007318]\n",
      " [ 4.95042459  3.90174427  7.06961609  2.29280899  7.63918874]\n",
      " [ 4.32830676  6.15986085  3.86329812  4.83319997  5.70723457]]\n",
      "\n",
      "\n",
      "[[ 0.09244212  0.07617505  0.02018569  0.02738665  0.04557072]\n",
      " [ 0.08971921  0.01330523  0.00200553  0.04278368  0.09150816]\n",
      " [ 0.07391422  0.04220088  0.00021201  0.0146186   0.03510073]\n",
      " [ 0.04950425  0.03901744  0.07069616  0.02292809  0.07639189]\n",
      " [ 0.04328307  0.06159861  0.03863298  0.048332    0.05707235]]\n"
     ]
    }
   ],
   "source": [
    "# Mathematical operations\n",
    "\n",
    "print(arr + 10)\n",
    "print('\\n')\n",
    "print(arr - 10)\n",
    "print('\\n')\n",
    "print(arr * 10)\n",
    "print('\\n')\n",
    "print(arr / 10)"
   ]
  },
  {
   "cell_type": "code",
   "execution_count": 94,
   "metadata": {},
   "outputs": [
    {
     "name": "stdout",
     "output_type": "stream",
     "text": [
      "[[ 2.52040896  2.14202264  1.22367286  1.31503923  1.57728846]\n",
      " [ 2.45270659  1.14230979  1.02025771  1.53393565  2.49697887]\n",
      " [ 2.09413847  1.52502193  1.00212233  1.15741141  1.42049772]\n",
      " [ 1.64056789  1.47723844  2.02782058  1.25769527  2.1466723 ]\n",
      " [ 1.54161517  1.85148142  1.47156993  1.62144868  1.76954678]]\n"
     ]
    }
   ],
   "source": [
    "# Exponentiation\n",
    "\n",
    "print(np.exp(arr))"
   ]
  },
  {
   "cell_type": "code",
   "execution_count": 95,
   "metadata": {},
   "outputs": [
    {
     "name": "stdout",
     "output_type": "stream",
     "text": [
      "[[-0.0785875  -0.27213615 -1.60019638 -1.29511453 -0.78590476]\n",
      " [-0.10848523 -2.01701266 -3.90926411 -0.84901358 -0.08874209]\n",
      " [-0.3022649  -0.86272913 -6.15629987 -1.92287573 -1.04694821]\n",
      " [-0.70311174 -0.94116139 -0.34677892 -1.47280739 -0.26929368]\n",
      " [-0.83740868 -0.4845309  -0.95106384 -0.72707633 -0.5608505 ]]\n"
     ]
    }
   ],
   "source": [
    "# Natural logarithm\n",
    "\n",
    "print(np.log(arr))"
   ]
  },
  {
   "cell_type": "code",
   "execution_count": 96,
   "metadata": {},
   "outputs": [
    {
     "name": "stdout",
     "output_type": "stream",
     "text": [
      "[[-0.11337779 -0.39260948 -2.30859538 -1.86845532 -1.1338209 ]\n",
      " [-0.15651111 -2.90993417 -5.63987594 -1.22486768 -0.12802778]\n",
      " [-0.43607608 -1.24465504 -8.88166329 -2.77412328 -1.51042699]\n",
      " [-1.01437583 -1.35780887 -0.50029622 -2.12481192 -0.38850866]\n",
      " [-1.20812535 -0.69903033 -1.37209508 -1.04894941 -0.80913623]]\n"
     ]
    }
   ],
   "source": [
    "# Base 2 logarithm\n",
    "\n",
    "print(np.log2(arr))"
   ]
  },
  {
   "cell_type": "code",
   "execution_count": 97,
   "metadata": {},
   "outputs": [
    {
     "name": "stdout",
     "output_type": "stream",
     "text": [
      "[[-0.03413012 -0.11818723 -0.69495646 -0.5624611  -0.3413141 ]\n",
      " [-0.04711454 -0.87597747 -1.69777183 -0.36872191 -0.0385402 ]\n",
      " [-0.13127198 -0.3746785  -2.67364706 -0.83509432 -0.45468383]\n",
      " [-0.30535755 -0.4087412  -0.15060417 -0.63963212 -0.11695276]\n",
      " [-0.36368197 -0.2104291  -0.41304178 -0.31576524 -0.24357428]]\n"
     ]
    }
   ],
   "source": [
    "# Base 10 logarithm\n",
    "\n",
    "print(np.log10(arr))"
   ]
  },
  {
   "cell_type": "code",
   "execution_count": 98,
   "metadata": {},
   "outputs": [
    {
     "name": "stdout",
     "output_type": "stream",
     "text": [
      "[[ 0.79827227  0.69018924  0.20048885  0.27045585  0.44009746]\n",
      " [ 0.78157843  0.13266012  0.02005391  0.41490351  0.79261231]\n",
      " [ 0.67365423  0.40959383  0.00212008  0.14566585  0.34384388]\n",
      " [ 0.47506901  0.38034974  0.64952657  0.2272773   0.69175669]\n",
      " [ 0.41944212  0.57776365  0.37679127  0.46472145  0.54024099]]\n"
     ]
    }
   ],
   "source": [
    "# sin function\n",
    "\n",
    "print(np.sin(arr))"
   ]
  },
  {
   "cell_type": "code",
   "execution_count": 102,
   "metadata": {},
   "outputs": [
    {
     "name": "stdout",
     "output_type": "stream",
     "text": [
      "-0.801152635734\n"
     ]
    }
   ],
   "source": [
    "print(np.sin(180))"
   ]
  },
  {
   "cell_type": "code",
   "execution_count": 100,
   "metadata": {},
   "outputs": [
    {
     "name": "stdout",
     "output_type": "stream",
     "text": [
      "0.0\n"
     ]
    }
   ],
   "source": [
    "print(np.sin(0))"
   ]
  },
  {
   "cell_type": "code",
   "execution_count": 103,
   "metadata": {},
   "outputs": [
    {
     "name": "stdout",
     "output_type": "stream",
     "text": [
      "[[ 0.60229676  0.72362892  0.97969598  0.96273238  0.89795001]\n",
      " [ 0.62380698  0.99116159  0.9997989   0.90986542  0.60972594]\n",
      " [ 0.73904667  0.91226799  0.99999775  0.98933385  0.93902683]\n",
      " [ 0.87994854  0.92484273  0.7603389   0.97383008  0.72213066]\n",
      " [ 0.90778208  0.81620412  0.92629819  0.88545693  0.84151035]]\n"
     ]
    }
   ],
   "source": [
    "# cos function\n",
    "\n",
    "print(np.cos(arr))"
   ]
  },
  {
   "cell_type": "code",
   "execution_count": 104,
   "metadata": {},
   "outputs": [
    {
     "name": "stdout",
     "output_type": "stream",
     "text": [
      "[[ 0.92442117  0.76175054  0.20185687  0.2738665   0.45570721]\n",
      " [ 0.89719214  0.13305234  0.02005525  0.42783675  0.91508155]\n",
      " [ 0.73914224  0.42200879  0.00212008  0.14618597  0.35100732]\n",
      " [ 0.49504246  0.39017443  0.70696161  0.2292809   0.76391887]\n",
      " [ 0.43283068  0.61598609  0.38632981  0.48332     0.57072346]]\n"
     ]
    }
   ],
   "source": [
    "print(arr)"
   ]
  },
  {
   "cell_type": "code",
   "execution_count": 105,
   "metadata": {},
   "outputs": [
    {
     "name": "stdout",
     "output_type": "stream",
     "text": [
      "[ 3.48862869  2.32297219  1.31732363  1.56049011  3.05643841]\n"
     ]
    }
   ],
   "source": [
    "# sum along the row\n",
    "print(np.sum(arr, axis=0))"
   ]
  },
  {
   "cell_type": "code",
   "execution_count": 107,
   "metadata": {},
   "outputs": [
    {
     "name": "stdout",
     "output_type": "stream",
     "text": [
      "[ 2.61760229  2.39321804  1.6604644   2.58537827  2.48919003]\n"
     ]
    }
   ],
   "source": [
    "# sum along the column\n",
    "print(np.sum(arr, axis=1))"
   ]
  },
  {
   "cell_type": "code",
   "execution_count": 111,
   "metadata": {},
   "outputs": [
    {
     "name": "stdout",
     "output_type": "stream",
     "text": [
      "0.00212008336334\n"
     ]
    }
   ],
   "source": [
    "# minimum item value along the row\n",
    "print(np.min(arr))"
   ]
  },
  {
   "cell_type": "code",
   "execution_count": 113,
   "metadata": {},
   "outputs": [
    {
     "name": "stdout",
     "output_type": "stream",
     "text": [
      "0.92442117211\n"
     ]
    }
   ],
   "source": [
    "print(np.max(arr))"
   ]
  },
  {
   "cell_type": "code",
   "execution_count": 115,
   "metadata": {},
   "outputs": [
    {
     "name": "stdout",
     "output_type": "stream",
     "text": [
      "0.469834120936\n"
     ]
    }
   ],
   "source": [
    "# calculate the overall mean\n",
    "\n",
    "print(np.mean(arr))"
   ]
  },
  {
   "cell_type": "code",
   "execution_count": 116,
   "metadata": {},
   "outputs": [
    {
     "name": "stdout",
     "output_type": "stream",
     "text": [
      "[ 0.69772574  0.46459444  0.26346473  0.31209802  0.61128768]\n"
     ]
    }
   ],
   "source": [
    "# calculate the mean along the row\n",
    "\n",
    "print(np.mean(arr, axis=0))"
   ]
  },
  {
   "cell_type": "code",
   "execution_count": 117,
   "metadata": {},
   "outputs": [
    {
     "name": "stdout",
     "output_type": "stream",
     "text": [
      "0.432830675642\n"
     ]
    }
   ],
   "source": [
    "# calculate the median\n",
    "print(np.median(arr))"
   ]
  },
  {
   "cell_type": "code",
   "execution_count": 118,
   "metadata": {},
   "outputs": [
    {
     "name": "stdout",
     "output_type": "stream",
     "text": [
      "0.265383503163\n"
     ]
    }
   ],
   "source": [
    "# calculate the standard deviation\n",
    "print(np.std(arr))"
   ]
  },
  {
   "cell_type": "code",
   "execution_count": 119,
   "metadata": {},
   "outputs": [
    {
     "name": "stdout",
     "output_type": "stream",
     "text": [
      "0.0704284037508\n"
     ]
    }
   ],
   "source": [
    "# calculate the variance\n",
    "print(np.var(arr))"
   ]
  },
  {
   "cell_type": "code",
   "execution_count": 125,
   "metadata": {},
   "outputs": [
    {
     "name": "stdout",
     "output_type": "stream",
     "text": [
      "[[ 0.92442117  0.76175054  0.20185687  0.2738665   0.45570721]\n",
      " [ 0.89719214  0.13305234  0.02005525  0.42783675  0.91508155]\n",
      " [ 0.73914224  0.42200879  0.00212008  0.14618597  0.35100732]\n",
      " [ 0.49504246  0.39017443  0.70696161  0.2292809   0.76391887]\n",
      " [ 0.43283068  0.61598609  0.38632981  0.48332     0.57072346]]\n",
      "\n",
      "\n",
      "[[ 0.02005525  0.42783675  0.91508155]\n",
      " [ 0.00212008  0.14618597  0.35100732]]\n"
     ]
    }
   ],
   "source": [
    "print(arr)\n",
    "print('\\n')\n",
    "print(arr[1:3, 2:5])"
   ]
  },
  {
   "cell_type": "code",
   "execution_count": 137,
   "metadata": {},
   "outputs": [
    {
     "name": "stdout",
     "output_type": "stream",
     "text": [
      "[[ 0.66649804  0.05554176  0.80333758  0.28153103  0.66721317]\n",
      " [ 0.27678181  0.92490631  0.26128609  0.35851329  0.54536714]\n",
      " [ 0.82991016  0.93973673  0.57371009  0.39254232  0.48064887]\n",
      " [ 0.93697264  0.79075876  0.71471353  0.21048423  0.42465534]\n",
      " [ 0.93905423  0.72574336  0.11013662  0.34806501  0.43460982]]\n"
     ]
    }
   ],
   "source": [
    "# Sort an array\n",
    "arr = np.random.rand(5,5)\n",
    "print(arr)"
   ]
  },
  {
   "cell_type": "code",
   "execution_count": 140,
   "metadata": {},
   "outputs": [
    {
     "name": "stdout",
     "output_type": "stream",
     "text": [
      "[[ 0.05554176  0.28153103  0.66649804  0.66721317  0.80333758]\n",
      " [ 0.26128609  0.27678181  0.35851329  0.54536714  0.92490631]\n",
      " [ 0.39254232  0.48064887  0.57371009  0.82991016  0.93973673]\n",
      " [ 0.21048423  0.42465534  0.71471353  0.79075876  0.93697264]\n",
      " [ 0.11013662  0.34806501  0.43460982  0.72574336  0.93905423]]\n"
     ]
    }
   ],
   "source": [
    "# sort along the column\n",
    "\n",
    "print(np.sort(arr, axis=1))"
   ]
  },
  {
   "cell_type": "code",
   "execution_count": 142,
   "metadata": {},
   "outputs": [
    {
     "name": "stdout",
     "output_type": "stream",
     "text": [
      "[[ 0.05554176  0.28153103  0.66649804  0.66721317  0.80333758]\n",
      " [ 0.26128609  0.27678181  0.35851329  0.54536714  0.92490631]\n",
      " [ 0.39254232  0.48064887  0.57371009  0.82991016  0.93973673]\n",
      " [ 0.21048423  0.42465534  0.71471353  0.79075876  0.93697264]\n",
      " [ 0.11013662  0.34806501  0.43460982  0.72574336  0.93905423]]\n",
      "\n",
      "\n",
      "[[ 0.05554176  0.26128609  0.39254232  0.21048423  0.11013662]\n",
      " [ 0.28153103  0.27678181  0.48064887  0.42465534  0.34806501]\n",
      " [ 0.66649804  0.35851329  0.57371009  0.71471353  0.43460982]\n",
      " [ 0.66721317  0.54536714  0.82991016  0.79075876  0.72574336]\n",
      " [ 0.80333758  0.92490631  0.93973673  0.93697264  0.93905423]]\n"
     ]
    }
   ],
   "source": [
    "# Transpose an array\n",
    "print(arr)\n",
    "print('\\n')\n",
    "print(arr.T)"
   ]
  },
  {
   "cell_type": "code",
   "execution_count": 143,
   "metadata": {},
   "outputs": [
    {
     "name": "stdout",
     "output_type": "stream",
     "text": [
      "[[ 0.05554176  0.26128609  0.39254232  0.21048423  0.11013662]\n",
      " [ 0.28153103  0.27678181  0.48064887  0.42465534  0.34806501]\n",
      " [ 0.66649804  0.35851329  0.57371009  0.71471353  0.43460982]\n",
      " [ 0.66721317  0.54536714  0.82991016  0.79075876  0.72574336]\n",
      " [ 0.80333758  0.92490631  0.93973673  0.93697264  0.93905423]]\n"
     ]
    }
   ],
   "source": [
    "print(arr.transpose())"
   ]
  },
  {
   "cell_type": "code",
   "execution_count": 145,
   "metadata": {},
   "outputs": [
    {
     "name": "stdout",
     "output_type": "stream",
     "text": [
      "[[ 0.05554176  0.28153103  0.66649804  0.66721317  0.80333758]\n",
      " [ 0.26128609  0.27678181  0.35851329  0.54536714  0.92490631]\n",
      " [ 0.39254232  0.48064887  0.57371009  0.82991016  0.93973673]\n",
      " [ 0.21048423  0.42465534  0.71471353  0.79075876  0.93697264]\n",
      " [ 0.11013662  0.34806501  0.43460982  0.72574336  0.93905423]]\n",
      "\n",
      "\n",
      "[ 0.05554176  0.28153103  0.66649804  0.66721317  0.80333758  0.26128609\n",
      "  0.27678181  0.35851329  0.54536714  0.92490631  0.39254232  0.48064887\n",
      "  0.57371009  0.82991016  0.93973673  0.21048423  0.42465534  0.71471353\n",
      "  0.79075876  0.93697264  0.11013662  0.34806501  0.43460982  0.72574336\n",
      "  0.93905423]\n"
     ]
    }
   ],
   "source": [
    "# Flatten the 2D array\n",
    "\n",
    "print(arr)\n",
    "print('\\n')\n",
    "print(arr.flatten())"
   ]
  },
  {
   "cell_type": "code",
   "execution_count": 146,
   "metadata": {
    "collapsed": true
   },
   "outputs": [],
   "source": [
    "# Append elements to an array\n",
    "\n",
    "arr = np.array([4,5,6,7])"
   ]
  },
  {
   "cell_type": "code",
   "execution_count": 147,
   "metadata": {},
   "outputs": [
    {
     "data": {
      "text/plain": [
       "array([4, 5, 6, 7, 8])"
      ]
     },
     "execution_count": 147,
     "metadata": {},
     "output_type": "execute_result"
    }
   ],
   "source": [
    "arr1 = np.append(arr, 8)\n",
    "arr1"
   ]
  },
  {
   "cell_type": "code",
   "execution_count": 149,
   "metadata": {},
   "outputs": [
    {
     "name": "stdout",
     "output_type": "stream",
     "text": [
      "[ 4  5  6  7  9 10 11]\n"
     ]
    }
   ],
   "source": [
    "arr2 = np.append(arr, [9,10,11])\n",
    "print(arr2)"
   ]
  },
  {
   "cell_type": "code",
   "execution_count": 150,
   "metadata": {},
   "outputs": [
    {
     "name": "stdout",
     "output_type": "stream",
     "text": [
      "[12 13 14  4  5  6  7]\n"
     ]
    }
   ],
   "source": [
    "# Insert elements to an array\n",
    "\n",
    "arr3 = np.insert(arr, 0, [12,13,14])\n",
    "print(arr3)"
   ]
  },
  {
   "cell_type": "code",
   "execution_count": 154,
   "metadata": {},
   "outputs": [
    {
     "name": "stdout",
     "output_type": "stream",
     "text": [
      "[4 5 6 7]\n",
      "\n",
      "\n",
      "[5 6 7]\n"
     ]
    }
   ],
   "source": [
    "# Remove elements from an array\n",
    "\n",
    "print(arr)\n",
    "print('\\n')\n",
    "arr4 = np.delete(arr, 0)\n",
    "print(arr4)"
   ]
  },
  {
   "cell_type": "code",
   "execution_count": 162,
   "metadata": {},
   "outputs": [
    {
     "name": "stdout",
     "output_type": "stream",
     "text": [
      "[ 4  5  6  7  9 10 11]\n",
      "\n",
      "\n",
      "[ 4  6  7 10 11]\n"
     ]
    }
   ],
   "source": [
    "# Delete multiple elements\n",
    "\n",
    "print(arr2)\n",
    "print('\\n')\n",
    "arr5 = np.delete(arr2, [1,4])\n",
    "print(arr5)"
   ]
  },
  {
   "cell_type": "code",
   "execution_count": 166,
   "metadata": {},
   "outputs": [
    {
     "data": {
      "text/plain": [
       "array([10, 13, 16, 19, 22, 25, 28, 31, 34, 37])"
      ]
     },
     "execution_count": 166,
     "metadata": {},
     "output_type": "execute_result"
    }
   ],
   "source": [
    "# Copy elements from an array\n",
    "\n",
    "arr1 = np.arange(10, 40, 3)\n",
    "arr1"
   ]
  },
  {
   "cell_type": "code",
   "execution_count": 169,
   "metadata": {},
   "outputs": [
    {
     "data": {
      "text/plain": [
       "array([10, 13, 16, 19, 22, 25, 28, 31, 34, 37])"
      ]
     },
     "execution_count": 169,
     "metadata": {},
     "output_type": "execute_result"
    }
   ],
   "source": [
    "arr_copy = np.copy(arr1)\n",
    "arr_copy"
   ]
  },
  {
   "cell_type": "code",
   "execution_count": 171,
   "metadata": {},
   "outputs": [
    {
     "name": "stdout",
     "output_type": "stream",
     "text": [
      "[10 13 16 19 22 25 28 31 34 37]\n"
     ]
    }
   ],
   "source": [
    "arr_copy = arr1.copy()\n",
    "print(arr_copy)"
   ]
  },
  {
   "cell_type": "code",
   "execution_count": 172,
   "metadata": {
    "collapsed": true
   },
   "outputs": [],
   "source": [
    "# Combine and split an array\n",
    "\n",
    "arr1 = np.array([[1,2,3,4], [1,2,3,4]])\n",
    "arr2 = np.array([[5,6,7,8], [5,6,7,8]])"
   ]
  },
  {
   "cell_type": "code",
   "execution_count": 174,
   "metadata": {},
   "outputs": [
    {
     "name": "stdout",
     "output_type": "stream",
     "text": [
      "[[1 2 3 4]\n",
      " [1 2 3 4]\n",
      " [5 6 7 8]\n",
      " [5 6 7 8]]\n"
     ]
    }
   ],
   "source": [
    "# Combine the array items by row\n",
    "\n",
    "cat = np.concatenate((arr1,arr2), axis=0)\n",
    "print(cat)"
   ]
  },
  {
   "cell_type": "code",
   "execution_count": 176,
   "metadata": {},
   "outputs": [
    {
     "name": "stdout",
     "output_type": "stream",
     "text": [
      "[[1 2 3 4 5 6 7 8]\n",
      " [1 2 3 4 5 6 7 8]]\n"
     ]
    }
   ],
   "source": [
    "# Combine array items by column\n",
    "\n",
    "cat = np. concatenate((arr1, arr2), axis=1)\n",
    "print(cat)"
   ]
  },
  {
   "cell_type": "code",
   "execution_count": 177,
   "metadata": {},
   "outputs": [
    {
     "name": "stdout",
     "output_type": "stream",
     "text": [
      "[[1 2 3 4]\n",
      " [1 2 3 4]\n",
      " [5 6 7 8]\n",
      " [5 6 7 8]]\n"
     ]
    }
   ],
   "source": [
    "# stack arrays vertically\n",
    "cat = np.vstack((arr1, arr2))\n",
    "print(cat)"
   ]
  },
  {
   "cell_type": "code",
   "execution_count": 178,
   "metadata": {},
   "outputs": [
    {
     "name": "stdout",
     "output_type": "stream",
     "text": [
      "[[1 2 3 4 5 6 7 8]\n",
      " [1 2 3 4 5 6 7 8]]\n"
     ]
    }
   ],
   "source": [
    "# Stack arrays horizontally\n",
    "cat = np.hstack((arr1, arr2))\n",
    "print(cat)"
   ]
  },
  {
   "cell_type": "code",
   "execution_count": 179,
   "metadata": {},
   "outputs": [
    {
     "name": "stdout",
     "output_type": "stream",
     "text": [
      "[1 2 3 4 5 6]\n"
     ]
    }
   ],
   "source": [
    "# Set operations\n",
    "\n",
    "# Find elements from an array\n",
    "arr = np.array([1,2,3,4,5,6,3,6,1,2,4])\n",
    "print(np.unique(arr))"
   ]
  },
  {
   "cell_type": "code",
   "execution_count": 180,
   "metadata": {},
   "outputs": [
    {
     "name": "stdout",
     "output_type": "stream",
     "text": [
      "[1 2 3 4 5 6]\n",
      "[2 2 2 1 1 1]\n"
     ]
    }
   ],
   "source": [
    "# return the number of times each unique item appears\n",
    "arr = np.array([1,1,2,2,3,3,4,5,6])\n",
    "uniques, counts = np.unique(arr, return_counts=True)\n",
    "print(uniques)\n",
    "print(counts)"
   ]
  },
  {
   "cell_type": "code",
   "execution_count": 182,
   "metadata": {
    "collapsed": true
   },
   "outputs": [],
   "source": [
    "# Intersection of 2 array elements\n",
    "\n",
    "arr1 = np.array([1,2,3,4,5])\n",
    "arr2 = np.array([3,4,5,6,7])"
   ]
  },
  {
   "cell_type": "code",
   "execution_count": 183,
   "metadata": {},
   "outputs": [
    {
     "name": "stdout",
     "output_type": "stream",
     "text": [
      "[3 4 5]\n"
     ]
    }
   ],
   "source": [
    "print(np.intersect1d(arr1, arr2))"
   ]
  },
  {
   "cell_type": "code",
   "execution_count": 184,
   "metadata": {},
   "outputs": [
    {
     "name": "stdout",
     "output_type": "stream",
     "text": [
      "[1 2 3 4 5 6 7]\n"
     ]
    }
   ],
   "source": [
    "# Union of 2 array elements\n",
    "\n",
    "print(np.union1d(arr1, arr2))"
   ]
  },
  {
   "cell_type": "code",
   "execution_count": 187,
   "metadata": {},
   "outputs": [
    {
     "name": "stdout",
     "output_type": "stream",
     "text": [
      "[1 2]\n",
      "[6 7]\n"
     ]
    }
   ],
   "source": [
    "# Elements present in first array but not in the second array\n",
    "print(np.setdiff1d(arr1, arr2))\n",
    "print(np.setdiff1d(arr2, arr1))"
   ]
  },
  {
   "cell_type": "code",
   "execution_count": 188,
   "metadata": {},
   "outputs": [
    {
     "name": "stdout",
     "output_type": "stream",
     "text": [
      "[1 2 6 7]\n"
     ]
    }
   ],
   "source": [
    "# Elements present in either of the arrays but not both\n",
    "\n",
    "print(np.setxor1d(arr1, arr2))"
   ]
  },
  {
   "cell_type": "code",
   "execution_count": null,
   "metadata": {
    "collapsed": true
   },
   "outputs": [],
   "source": []
  }
 ],
 "metadata": {
  "kernelspec": {
   "display_name": "Python 3",
   "language": "python",
   "name": "python3"
  },
  "language_info": {
   "codemirror_mode": {
    "name": "ipython",
    "version": 3
   },
   "file_extension": ".py",
   "mimetype": "text/x-python",
   "name": "python",
   "nbconvert_exporter": "python",
   "pygments_lexer": "ipython3",
   "version": "3.8.8"
  }
 },
 "nbformat": 4,
 "nbformat_minor": 2
}
